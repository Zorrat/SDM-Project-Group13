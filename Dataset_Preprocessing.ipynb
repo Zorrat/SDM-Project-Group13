{
 "cells": [
  {
   "cell_type": "code",
   "execution_count": null,
   "metadata": {},
   "outputs": [
    {
     "ename": "",
     "evalue": "",
     "output_type": "error",
     "traceback": [
      "\u001b[1;31mThe kernel failed to start as the Python Environment 'sdmProjectVenv (Python 3.11.7)' is no longer available. Consider selecting another kernel or refreshing the list of Python Environments."
     ]
    }
   ],
   "source": [
    "import pandas as pd\n",
    "\n",
    "# Load the data\n",
    "minWageDf = pd.read_csv('datasets/MinimumWageData.csv', encoding='latin')\n",
    "\n",
    "minWageDf.head()\n",
    "\n",
    "# Drop the columns that are not needed\n",
    "minWageDf = minWageDf.drop(['Footnote','Department.Of.Labor.Uncleaned.Data',\n",
    "                            'Department.Of.Labor.Cleaned.Low.Value.2020.Dollars',\n",
    "                            'Department.Of.Labor.Cleaned.High.Value.2020.Dollars',\n",
    "                            'Department.Of.Labor.Cleaned.Low.Value',\n",
    "                            'Department.Of.Labor.Cleaned.High.Value',\n",
    "                            \"Federal.Minimum.Wage.2020.Dollars\",\n",
    "                            \"State.Minimum.Wage.2020.Dollars\"], axis=1)\n",
    "\n",
    "\n",
    "minWageDf.info()"
   ]
  },
  {
   "cell_type": "code",
   "execution_count": null,
   "metadata": {},
   "outputs": [
    {
     "ename": "",
     "evalue": "",
     "output_type": "error",
     "traceback": [
      "\u001b[1;31mThe kernel failed to start as the Python Environment 'sdmProjectVenv (Python 3.11.7)' is no longer available. Consider selecting another kernel or refreshing the list of Python Environments."
     ]
    }
   ],
   "source": [
    "# Read all the datasets\n",
    "fedFundsDf = pd.read_csv('datasets/FedFunds.csv', encoding='utf-8')\n",
    "gdpDf = pd.read_csv('datasets/GDP.csv', encoding='utf-8')\n",
    "homePriceIndexDf = pd.read_csv('datasets/HomePriceIndex.csv', encoding='utf-8')\n",
    "mortgageeDf = pd.read_csv('datasets/Mortgage.csv', encoding='utf-8')\n",
    "populationGrowthDf = pd.read_csv('datasets/Population-Growth.csv', encoding='utf-8')\n",
    "unemploymentDf = pd.read_csv('datasets/Unemployment-Rate.csv', encoding='utf-8')\n",
    "\n",
    "# List of dataframes\n",
    "dfs = [fedFundsDf, gdpDf, homePriceIndexDf, mortgageeDf, populationGrowthDf, unemploymentDf]"
   ]
  },
  {
   "cell_type": "code",
   "execution_count": null,
   "metadata": {},
   "outputs": [
    {
     "ename": "",
     "evalue": "",
     "output_type": "error",
     "traceback": [
      "\u001b[1;31mThe kernel failed to start as the Python Environment 'sdmProjectVenv (Python 3.11.7)' is no longer available. Consider selecting another kernel or refreshing the list of Python Environments."
     ]
    }
   ],
   "source": [
    "meanDfs = []\n",
    "for df in dfs:\n",
    "    if \"DATE\" in df.columns:\n",
    "        keyCol = df.columns[1]\n",
    "        df[\"Year\"] = pd.to_datetime(df[\"DATE\"])     # Convert the date to datetime\n",
    "        df[\"Year\"] = df[\"Year\"].dt.year             # Extract the year\n",
    "        df[\"Year\"] = df[\"Year\"].astype(int)         # Convert the year to integer\n",
    "        dfMean = df.groupby(\"Year\")[keyCol].mean()  # Get the mean of the main data column by year\n",
    "        dfMean = dfMean.to_frame().reset_index()    # Get the Data Frame with year and mean data of the year\n",
    "        meanDfs.append(dfMean)\n"
   ]
  },
  {
   "cell_type": "code",
   "execution_count": null,
   "metadata": {},
   "outputs": [
    {
     "ename": "",
     "evalue": "",
     "output_type": "error",
     "traceback": [
      "\u001b[1;31mThe kernel failed to start as the Python Environment 'sdmProjectVenv (Python 3.11.7)' is no longer available. Consider selecting another kernel or refreshing the list of Python Environments."
     ]
    }
   ],
   "source": [
    "# Merge the dataframes\n",
    "mergedDf = minWageDf.copy()\n",
    "\n",
    "for meanDf in meanDfs:\n",
    "    mergedDf = pd.merge(mergedDf, meanDf, on=\"Year\", how=\"left\") # Merge the dataframes with the year as the key\n"
   ]
  },
  {
   "cell_type": "code",
   "execution_count": null,
   "metadata": {},
   "outputs": [
    {
     "ename": "",
     "evalue": "",
     "output_type": "error",
     "traceback": [
      "\u001b[1;31mThe kernel failed to start as the Python Environment 'sdmProjectVenv (Python 3.11.7)' is no longer available. Consider selecting another kernel or refreshing the list of Python Environments."
     ]
    }
   ],
   "source": [
    "# Cleanup column names by renaming them.\n",
    "renameMap = {\n",
    "    \"FEDFUNDS\" : \"FedFundsRate\",\n",
    "    \"CSUSHPISA\" : \"HomePriceIndex\",\n",
    "    \"MORTGAGE30US\" : \"MortgageRate\",\n",
    "    \"UNRATE\" : \"UnemploymentRate\",\n",
    "    \"SPPOPGROWUSA\" : \"PopulationGrowth\",\n",
    "    \"GDP\" : \"Gdp\",\n",
    "    \"State.Minimum.Wage\" : \"StateMinimumWage\",\n",
    "    \"Federal.Minimum.Wage\" : \"FederalMinimumWage\",\n",
    "    \"Effective.Minimum.Wage\" : \"EffectiveMinimumWage\",\n",
    "    \"CPI.Average\" : \"CPIAverage\",\n",
    "    \"Effective.Minimum.Wage.2020.Dollars\" : \"EffectiveMinimumWage2020Dollars\",\n",
    "}\n",
    "mergedDf = mergedDf.rename(columns=renameMap)\n",
    "mergedDf.info()\n"
   ]
  },
  {
   "cell_type": "code",
   "execution_count": null,
   "metadata": {},
   "outputs": [
    {
     "ename": "",
     "evalue": "",
     "output_type": "error",
     "traceback": [
      "\u001b[1;31mThe kernel failed to start as the Python Environment 'sdmProjectVenv (Python 3.11.7)' is no longer available. Consider selecting another kernel or refreshing the list of Python Environments."
     ]
    }
   ],
   "source": [
    "mergedDf.sample(50)\n",
    "mergedDf.to_csv(\"FinalDataSet.csv\", index=False)"
   ]
  },
  {
   "cell_type": "code",
   "execution_count": null,
   "metadata": {},
   "outputs": [
    {
     "ename": "",
     "evalue": "",
     "output_type": "error",
     "traceback": [
      "\u001b[1;31mThe kernel failed to start as the Python Environment 'sdmProjectVenv (Python 3.11.7)' is no longer available. Consider selecting another kernel or refreshing the list of Python Environments."
     ]
    }
   ],
   "source": []
  }
 ],
 "metadata": {
  "kernelspec": {
   "display_name": "sdmProjectVenv",
   "language": "python",
   "name": "python3"
  },
  "language_info": {
   "codemirror_mode": {
    "name": "ipython",
    "version": 3
   },
   "file_extension": ".py",
   "mimetype": "text/x-python",
   "name": "python",
   "nbconvert_exporter": "python",
   "pygments_lexer": "ipython3",
   "version": "3.11.7"
  }
 },
 "nbformat": 4,
 "nbformat_minor": 2
}

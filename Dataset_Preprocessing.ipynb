{
 "cells": [
  {
   "cell_type": "code",
   "execution_count": 1,
   "metadata": {},
   "outputs": [
    {
     "name": "stdout",
     "output_type": "stream",
     "text": [
      "<class 'pandas.core.frame.DataFrame'>\n",
      "RangeIndex: 2862 entries, 0 to 2861\n",
      "Data columns (total 7 columns):\n",
      " #   Column                               Non-Null Count  Dtype  \n",
      "---  ------                               --------------  -----  \n",
      " 0   Year                                 2862 non-null   int64  \n",
      " 1   State                                2862 non-null   object \n",
      " 2   State.Minimum.Wage                   2862 non-null   float64\n",
      " 3   Federal.Minimum.Wage                 2862 non-null   float64\n",
      " 4   Effective.Minimum.Wage               2862 non-null   float64\n",
      " 5   Effective.Minimum.Wage.2020.Dollars  2862 non-null   float64\n",
      " 6   CPI.Average                          2862 non-null   float64\n",
      "dtypes: float64(5), int64(1), object(1)\n",
      "memory usage: 156.6+ KB\n"
     ]
    }
   ],
   "source": [
    "import pandas as pd\n",
    "\n",
    "# Load the data\n",
    "minWageDf = pd.read_csv('datasets/MinimumWageData.csv', encoding='latin')\n",
    "\n",
    "minWageDf.head()\n",
    "\n",
    "# Drop the columns that are not needed\n",
    "minWageDf = minWageDf.drop(['Footnote','Department.Of.Labor.Uncleaned.Data',\n",
    "                            'Department.Of.Labor.Cleaned.Low.Value.2020.Dollars',\n",
    "                            'Department.Of.Labor.Cleaned.High.Value.2020.Dollars',\n",
    "                            'Department.Of.Labor.Cleaned.Low.Value',\n",
    "                            'Department.Of.Labor.Cleaned.High.Value',\n",
    "                            \"Federal.Minimum.Wage.2020.Dollars\",\n",
    "                            \"State.Minimum.Wage.2020.Dollars\"], axis=1)\n",
    "\n",
    "\n",
    "minWageDf.info()"
   ]
  },
  {
   "cell_type": "code",
   "execution_count": 2,
   "metadata": {},
   "outputs": [],
   "source": [
    "# Read all the datasets\n",
    "fedFundsDf = pd.read_csv('datasets/FedFunds.csv', encoding='utf-8')\n",
    "gdpDf = pd.read_csv('datasets/GDP.csv', encoding='utf-8')\n",
    "homePriceIndexDf = pd.read_csv('datasets/HomePriceIndex.csv', encoding='utf-8')\n",
    "mortgageeDf = pd.read_csv('datasets/Mortgage.csv', encoding='utf-8')\n",
    "populationGrowthDf = pd.read_csv('datasets/Population-Growth.csv', encoding='utf-8')\n",
    "unemploymentDf = pd.read_csv('datasets/Unemployment-Rate.csv', encoding='utf-8')\n",
    "\n",
    "# List of dataframes\n",
    "dfs = [fedFundsDf, gdpDf, homePriceIndexDf, mortgageeDf, populationGrowthDf, unemploymentDf]"
   ]
  },
  {
   "cell_type": "code",
   "execution_count": 3,
   "metadata": {},
   "outputs": [],
   "source": [
    "meanDfs = []\n",
    "for df in dfs:\n",
    "    if \"DATE\" in df.columns:\n",
    "        keyCol = df.columns[1]\n",
    "        df[\"Year\"] = pd.to_datetime(df[\"DATE\"])     # Convert the date to datetime\n",
    "        df[\"Year\"] = df[\"Year\"].dt.year             # Extract the year\n",
    "        df[\"Year\"] = df[\"Year\"].astype(int)         # Convert the year to integer\n",
    "        dfMean = df.groupby(\"Year\")[keyCol].mean()  # Get the mean of the main data column by year\n",
    "        dfMean = dfMean.to_frame().reset_index()    # Get the Data Frame with year and mean data of the year\n",
    "        meanDfs.append(dfMean)\n"
   ]
  },
  {
   "cell_type": "code",
   "execution_count": 4,
   "metadata": {},
   "outputs": [],
   "source": [
    "# Merge the dataframes\n",
    "mergedDf = minWageDf.copy()\n",
    "\n",
    "for meanDf in meanDfs:\n",
    "    mergedDf = pd.merge(mergedDf, meanDf, on=\"Year\", how=\"left\") # Merge the dataframes with the year as the key\n"
   ]
  },
  {
   "cell_type": "code",
   "execution_count": 5,
   "metadata": {},
   "outputs": [
    {
     "name": "stdout",
     "output_type": "stream",
     "text": [
      "<class 'pandas.core.frame.DataFrame'>\n",
      "RangeIndex: 2862 entries, 0 to 2861\n",
      "Data columns (total 13 columns):\n",
      " #   Column                           Non-Null Count  Dtype  \n",
      "---  ------                           --------------  -----  \n",
      " 0   Year                             2862 non-null   int64  \n",
      " 1   State                            2862 non-null   object \n",
      " 2   StateMinimumWage                 2862 non-null   float64\n",
      " 3   FederalMinimumWage               2862 non-null   float64\n",
      " 4   EffectiveMinimumWage             2862 non-null   float64\n",
      " 5   EffectiveMinimumWage2020Dollars  2862 non-null   float64\n",
      " 6   CPIAverage                       2862 non-null   float64\n",
      " 7   FedFundsRate                     2862 non-null   float64\n",
      " 8   Gdp                              2862 non-null   float64\n",
      " 9   HomePriceIndex                   1836 non-null   float64\n",
      " 10  MortgageRate                     2700 non-null   float64\n",
      " 11  PopulationGrowth                 2862 non-null   float64\n",
      " 12  UnemploymentRate                 2862 non-null   float64\n",
      "dtypes: float64(11), int64(1), object(1)\n",
      "memory usage: 290.8+ KB\n"
     ]
    }
   ],
   "source": [
    "# Cleanup column names by renaming them.\n",
    "renameMap = {\n",
    "    \"FEDFUNDS\" : \"FedFundsRate\",\n",
    "    \"CSUSHPISA\" : \"HomePriceIndex\",\n",
    "    \"MORTGAGE30US\" : \"MortgageRate\",\n",
    "    \"UNRATE\" : \"UnemploymentRate\",\n",
    "    \"SPPOPGROWUSA\" : \"PopulationGrowth\",\n",
    "    \"GDP\" : \"Gdp\",\n",
    "    \"State.Minimum.Wage\" : \"StateMinimumWage\",\n",
    "    \"Federal.Minimum.Wage\" : \"FederalMinimumWage\",\n",
    "    \"Effective.Minimum.Wage\" : \"EffectiveMinimumWage\",\n",
    "    \"CPI.Average\" : \"CPIAverage\",\n",
    "    \"Effective.Minimum.Wage.2020.Dollars\" : \"EffectiveMinimumWage2020Dollars\",\n",
    "}\n",
    "mergedDf = mergedDf.rename(columns=renameMap)\n",
    "mergedDf.info()\n"
   ]
  },
  {
   "cell_type": "code",
   "execution_count": 6,
   "metadata": {},
   "outputs": [],
   "source": [
    "mergedDf.sample(50)\n",
    "mergedDf.to_csv(\"FinalDataSet.csv\", index=False)"
   ]
  }
 ],
 "metadata": {
  "kernelspec": {
   "display_name": "sdmProjectVenv",
   "language": "python",
   "name": "python3"
  },
  "language_info": {
   "codemirror_mode": {
    "name": "ipython",
    "version": 3
   },
   "file_extension": ".py",
   "mimetype": "text/x-python",
   "name": "python",
   "nbconvert_exporter": "python",
   "pygments_lexer": "ipython3",
   "version": "3.11.7"
  }
 },
 "nbformat": 4,
 "nbformat_minor": 2
}
